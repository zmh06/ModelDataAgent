{
 "cells": [
  {
   "cell_type": "code",
   "execution_count": null,
   "id": "initial_id",
   "metadata": {
    "collapsed": true,
    "jupyter": {
     "is_executing": true
    }
   },
   "outputs": [],
   "source": [
    "# 安装依赖环境\n",
    "! pip install -r requirements.txt"
   ]
  },
  {
   "cell_type": "code",
   "execution_count": null,
   "id": "1e110aca3969cb36",
   "metadata": {},
   "outputs": [],
   "source": [
    "PythonProject/\n",
    "├── main.py\n",
    "├── config/\n",
    "│   └── load_key.py\n",
    "├── agents/\n",
    "│   ├── __init__.py\n",
    "│   ├── plan_agent.py      # 路由决策Agent\n",
    "│   ├── query_agent.py     # 智能问数Agent\n",
    "│   ├── data_quality.py    # 数据质量校验Agent\n",
    "│   └── view_expansion.py  # 视图扩展Agent\n",
    "├── services/\n",
    "│   └── database.py        # 数据库操作工具\n",
    "└── requirements.txt"
   ]
  }
 ],
 "metadata": {
  "kernelspec": {
   "display_name": "Python 3",
   "language": "python",
   "name": "python3"
  },
  "language_info": {
   "codemirror_mode": {
    "name": "ipython",
    "version": 2
   },
   "file_extension": ".py",
   "mimetype": "text/x-python",
   "name": "python",
   "nbconvert_exporter": "python",
   "pygments_lexer": "ipython2",
   "version": "2.7.6"
  }
 },
 "nbformat": 4,
 "nbformat_minor": 5
}
